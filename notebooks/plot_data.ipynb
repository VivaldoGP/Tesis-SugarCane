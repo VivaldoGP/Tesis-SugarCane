{
 "cells": [
  {
   "cell_type": "markdown",
   "source": [
    "## Regresión multiple"
   ],
   "metadata": {
    "collapsed": false
   },
   "id": "3dcb815c67d799cd"
  },
  {
   "cell_type": "code",
   "execution_count": 1,
   "outputs": [],
   "source": [
    "import os\n",
    "import json\n",
    "import pandas as pd\n",
    "\n",
    "from sklearn.metrics import mean_squared_error, r2_score\n",
    "from stats_utils.regression_models import simple_regression"
   ],
   "metadata": {
    "collapsed": false,
    "ExecuteTime": {
     "end_time": "2023-10-19T19:19:17.506161400Z",
     "start_time": "2023-10-19T19:19:15.250315500Z"
    }
   },
   "id": "2603693ede9ded70"
  },
  {
   "cell_type": "code",
   "execution_count": 2,
   "outputs": [],
   "source": [
    "path = r\"C:\\Users\\DELL\\PycharmProjects\\Tesis\\Parcelas\\Parcelas_2.geojson\"\n",
    "df_path = r\"C:\\Users\\DELL\\PycharmProjects\\Tesis\\dataframes\\Evapo\""
   ],
   "metadata": {
    "collapsed": false,
    "ExecuteTime": {
     "end_time": "2023-10-19T19:19:20.740502300Z",
     "start_time": "2023-10-19T19:19:20.685309200Z"
    }
   },
   "id": "f7ba77e33a746818"
  },
  {
   "cell_type": "code",
   "execution_count": 14,
   "outputs": [
    {
     "name": "stdout",
     "output_type": "stream",
     "text": [
      "           ndvi      ndwi       msi       etc     yield        id\n",
      "ndvi   1.000000  0.937763 -0.893715  0.732119  0.836061  0.062668\n",
      "ndwi   0.937763  1.000000 -0.985034  0.693076  0.807362  0.080969\n",
      "msi   -0.893715 -0.985034  1.000000 -0.674435 -0.721653 -0.184480\n",
      "etc    0.732119  0.693076 -0.674435  1.000000  0.370054 -0.042500\n",
      "yield  0.836061  0.807362 -0.721653  0.370054  1.000000 -0.244834\n",
      "id     0.062668  0.080969 -0.184480 -0.042500 -0.244834  1.000000\n",
      "Coeficientes: [ 237.24359125 1055.41017549  471.38581635  -35.80908623]\n",
      "Intercepto: -439.86824527731835\n",
      "Error cuadrático medio: 18.628687682477043\n",
      "R2: 0.9344941904704571\n",
      "0.9344941904704571\n",
      "        ndvi      ndwi       msi       etc  yield  id    predict\n",
      "1   0.509355  0.001981  1.056740  3.849733     48   1  43.340145\n",
      "2   0.536524  0.084066  0.898189  4.031022     60   2  55.189265\n",
      "3   0.516467  0.071127  0.897449  3.907103     45   3  40.863317\n",
      "4   0.516839  0.056572  0.961190  3.915978     50   4  55.319465\n",
      "5   0.556311  0.100697  0.876877  3.910541     75   5  71.703890\n",
      "6   0.546149  0.088514  0.895218  3.641191     75   6  74.726376\n",
      "7   0.578512  0.125286  0.839129  4.074758     75   7  79.247659\n",
      "8   0.543425  0.098820  0.876613  3.633872     75   8  76.449279\n",
      "9   0.548525  0.095560  0.871165  3.802603     75   9  65.607549\n",
      "10  0.594025  0.153673  0.783247  4.263645     75  10  79.782916\n",
      "11  0.602952  0.165111  0.750965  4.409596     75  11  73.528866\n",
      "13  0.504486  0.047848  0.933695  3.854253     30  13  32.430121\n",
      "14  0.524458  0.079697  0.889063  3.756314     50  14  53.250634\n",
      "15  0.554228  0.105497  0.855732  4.046730     60  15  61.432168\n",
      "16  0.497873 -0.006496  1.033758  3.590247     25  16  30.128349\n"
     ]
    }
   ],
   "source": [
    "ndvi_promedio = {}\n",
    "\n",
    "for i in os.listdir(r\"C:\\Users\\DELL\\PycharmProjects\\Tesis\\dataframes\\Evapo\"):\n",
    "    df = pd.read_csv(r\"C:\\Users\\DELL\\PycharmProjects\\Tesis\\dataframes\\Evapo\\{}\".format(i))\n",
    "    df['Fecha'] = df['Fecha'].astype('datetime64[ns]')\n",
    "    df = df.sort_values(by='Fecha', ascending=True)\n",
    "    file_name, ext = i.split('.')\n",
    "    parcela_id = file_name.split('_')[1]\n",
    "\n",
    "    with open(path, encoding='utf-8') as par:\n",
    "        parcelas = json.load(par)\n",
    "        for j in parcelas['features']:\n",
    "            if int(parcela_id) == j['properties']['Id']:\n",
    "                # print(parcela_id, j['properties']['Rendimiento'])\n",
    "                ndvi_promedio[parcela_id] = (df['ndvi_mean'].mean(), df['ndmi_mean'].mean(), df['msi_mean'].mean(), df['ETc'].mean(), j['properties']['Rendimiento'], int(parcela_id))\n",
    "\n",
    "ndvi_yield_df = pd.DataFrame.from_dict(ndvi_promedio, orient='index', columns=['ndvi', 'ndwi', 'msi', 'etc', 'yield', 'id'])\n",
    "print(ndvi_yield_df.corr(method='pearson'))\n",
    "x = ndvi_yield_df[['ndvi', 'ndwi', 'msi', 'etc']]\n",
    "y = ndvi_yield_df['yield']\n",
    "model = simple_regression(x, y)\n",
    "equation = 'y = {}x + ({})'.format(model.coef_, model.intercept_)\n",
    "y_pred = model.predict(x)\n",
    "ndvi_yield_df['predict'] = y_pred\n",
    "print(f\"Coeficientes: {model.coef_}\")\n",
    "print(f\"Intercepto: {model.intercept_}\")\n",
    "print(f\"Error cuadrático medio: {mean_squared_error(y, y_pred)}\")\n",
    "print(f\"R2: {r2_score(y, y_pred)}\")\n",
    "print(model.score(x, y))\n",
    "print(ndvi_yield_df.sort_values(by='id', ascending=True))"
   ],
   "metadata": {
    "collapsed": false,
    "ExecuteTime": {
     "end_time": "2023-10-19T19:32:42.784435400Z",
     "start_time": "2023-10-19T19:32:42.674604400Z"
    }
   },
   "id": "95eb6f0406945bef"
  },
  {
   "cell_type": "code",
   "execution_count": null,
   "outputs": [],
   "source": [],
   "metadata": {
    "collapsed": false
   },
   "id": "ab4dc2f72b96110e"
  }
 ],
 "metadata": {
  "kernelspec": {
   "display_name": "Python 3",
   "language": "python",
   "name": "python3"
  },
  "language_info": {
   "codemirror_mode": {
    "name": "ipython",
    "version": 2
   },
   "file_extension": ".py",
   "mimetype": "text/x-python",
   "name": "python",
   "nbconvert_exporter": "python",
   "pygments_lexer": "ipython2",
   "version": "2.7.6"
  }
 },
 "nbformat": 4,
 "nbformat_minor": 5
}
