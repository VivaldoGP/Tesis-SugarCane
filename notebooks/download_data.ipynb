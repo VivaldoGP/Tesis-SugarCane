{
 "cells": [
  {
   "cell_type": "markdown",
   "source": [
    "## Librerías"
   ],
   "metadata": {
    "collapsed": false
   },
   "id": "3f79665c2a37ab73"
  },
  {
   "cell_type": "code",
   "execution_count": 20,
   "outputs": [],
   "source": [
    "import ee\n",
    "import json"
   ],
   "metadata": {
    "collapsed": false,
    "ExecuteTime": {
     "end_time": "2023-09-21T01:53:40.935080200Z",
     "start_time": "2023-09-21T01:53:40.921747700Z"
    }
   },
   "id": "de2edc22d483a6b9"
  },
  {
   "cell_type": "markdown",
   "source": [
    "## Autenticación"
   ],
   "metadata": {
    "collapsed": false
   },
   "id": "4a533b04fa7adb53"
  },
  {
   "cell_type": "markdown",
   "source": [
    "Primeros autenticarnos con nuestras credenciales, para esto necesitamos registrarnos."
   ],
   "metadata": {
    "collapsed": false
   },
   "id": "24276c4099d3e570"
  },
  {
   "cell_type": "code",
   "execution_count": 2,
   "outputs": [
    {
     "data": {
      "text/plain": "<IPython.core.display.HTML object>",
      "text/html": "<p>To authorize access needed by Earth Engine, open the following\n        URL in a web browser and follow the instructions:</p>\n        <p><a href=https://code.earthengine.google.com/client-auth?scopes=https%3A//www.googleapis.com/auth/earthengine%20https%3A//www.googleapis.com/auth/devstorage.full_control&request_id=bTCOaDjy8vYEJtQTuwsCW87Jdm3E7RSgceXQo_hDxlY&tc=rr3bCkEXeKngrrSlZeRkbH1PA0MA7TGeT2prpsyugng&cc=WZHIZUqLeZ_x8yjgHrmaf9vxPfIqx1Gkyva-lp622Lk>https://code.earthengine.google.com/client-auth?scopes=https%3A//www.googleapis.com/auth/earthengine%20https%3A//www.googleapis.com/auth/devstorage.full_control&request_id=bTCOaDjy8vYEJtQTuwsCW87Jdm3E7RSgceXQo_hDxlY&tc=rr3bCkEXeKngrrSlZeRkbH1PA0MA7TGeT2prpsyugng&cc=WZHIZUqLeZ_x8yjgHrmaf9vxPfIqx1Gkyva-lp622Lk</a></p>\n        <p>The authorization workflow will generate a code, which you should paste in the box below.</p>\n        "
     },
     "metadata": {},
     "output_type": "display_data"
    },
    {
     "name": "stdout",
     "output_type": "stream",
     "text": [
      "\n",
      "Successfully saved authorization token.\n"
     ]
    }
   ],
   "source": [
    "ee.Authenticate()"
   ],
   "metadata": {
    "collapsed": false,
    "ExecuteTime": {
     "end_time": "2023-09-21T01:24:01.846612800Z",
     "start_time": "2023-09-21T01:23:39.728098700Z"
    }
   },
   "id": "f7c6bc53a9634778"
  },
  {
   "cell_type": "markdown",
   "source": [
    "## Inicialización de la librería"
   ],
   "metadata": {
    "collapsed": false
   },
   "id": "3da324e56ba1cc16"
  },
  {
   "cell_type": "code",
   "execution_count": 3,
   "outputs": [],
   "source": [
    "ee.Initialize()"
   ],
   "metadata": {
    "collapsed": false,
    "ExecuteTime": {
     "end_time": "2023-09-21T01:25:25.907691800Z",
     "start_time": "2023-09-21T01:25:21.951096Z"
    }
   },
   "id": "634bdd45d812c4c8"
  },
  {
   "cell_type": "markdown",
   "source": [
    "## Delimitación de la zona/zonas de estudio"
   ],
   "metadata": {
    "collapsed": false
   },
   "id": "eae310a7fa29f08b"
  },
  {
   "cell_type": "markdown",
   "source": [
    "Para esto vamos a obtener la geometría desde un archivo geojson."
   ],
   "metadata": {
    "collapsed": false
   },
   "id": "3f39c76431ed4205"
  },
  {
   "cell_type": "code",
   "execution_count": 8,
   "outputs": [],
   "source": [
    "with open(r'C:\\Users\\DELL\\PycharmProjects\\Tesis\\Poligonos\\Rancho_SantaAnita\\Rancho-Santa-Anita.geojson', encoding='utf-8') as geom:\n",
    "    rancho = json.load(geom)"
   ],
   "metadata": {
    "collapsed": false,
    "ExecuteTime": {
     "end_time": "2023-09-21T01:32:48.891999400Z",
     "start_time": "2023-09-21T01:32:48.872218100Z"
    }
   },
   "id": "a8d19c79e5b17444"
  },
  {
   "cell_type": "markdown",
   "source": [
    "## Pasamos este json a un FeatureCollection"
   ],
   "metadata": {
    "collapsed": false
   },
   "id": "3615ea17f2cf953f"
  },
  {
   "cell_type": "markdown",
   "source": [
    "Esto para poder operar las geometrías con las colecciones de imágenes."
   ],
   "metadata": {
    "collapsed": false
   },
   "id": "3b063d58002f04d1"
  },
  {
   "cell_type": "code",
   "execution_count": 10,
   "outputs": [],
   "source": [
    "fc = ee.FeatureCollection(rancho)"
   ],
   "metadata": {
    "collapsed": false,
    "ExecuteTime": {
     "end_time": "2023-09-21T01:37:12.654240700Z",
     "start_time": "2023-09-21T01:37:12.630244Z"
    }
   },
   "id": "28ba2d9a023f7d4e"
  },
  {
   "cell_type": "markdown",
   "source": [
    "Vamos a calcular el área para ver que coincida con las dimensiones esperadas."
   ],
   "metadata": {
    "collapsed": false
   },
   "id": "577102f66c15027"
  },
  {
   "cell_type": "code",
   "execution_count": 14,
   "outputs": [
    {
     "name": "stdout",
     "output_type": "stream",
     "text": [
      "El área es de 101.06964064167524 ha.\n"
     ]
    }
   ],
   "source": [
    "area = fc.geometry().area()\n",
    "print(f'El área es de {area.divide(10000).getInfo()} ha.')"
   ],
   "metadata": {
    "collapsed": false,
    "ExecuteTime": {
     "end_time": "2023-09-21T01:40:09.449356800Z",
     "start_time": "2023-09-21T01:40:08.524818600Z"
    }
   },
   "id": "70e142a7281be427"
  },
  {
   "cell_type": "markdown",
   "source": [
    "# Colección de imágenes"
   ],
   "metadata": {
    "collapsed": false
   },
   "id": "b9c83b2f4c18ed1"
  },
  {
   "cell_type": "markdown",
   "source": [
    "## Misión Sentinel 2"
   ],
   "metadata": {
    "collapsed": false
   },
   "id": "e97d384d5ec9d897"
  },
  {
   "cell_type": "markdown",
   "source": [
    "La colección es de las imágenes con nivel de procesamiento 2A."
   ],
   "metadata": {
    "collapsed": false
   },
   "id": "9227996158092828"
  },
  {
   "cell_type": "code",
   "execution_count": 69,
   "outputs": [],
   "source": [
    "start_year = '2021-01-01'\n",
    "end_year = '2023-09-01'"
   ],
   "metadata": {
    "collapsed": false,
    "ExecuteTime": {
     "end_time": "2023-09-21T07:48:17.911275Z",
     "start_time": "2023-09-21T07:48:17.881784600Z"
    }
   },
   "id": "892848f3c482e6e9"
  },
  {
   "cell_type": "code",
   "execution_count": 70,
   "outputs": [],
   "source": [
    "ic = ee.ImageCollection(\"COPERNICUS/S2_SR_HARMONIZED\").filterDate(start=start_year, opt_end=end_year).filter(ee.Filter.eq('MGRS_TILE', '14QML'))"
   ],
   "metadata": {
    "collapsed": false,
    "ExecuteTime": {
     "end_time": "2023-09-21T07:48:23.687699600Z",
     "start_time": "2023-09-21T07:48:23.665504400Z"
    }
   },
   "id": "8d815dd5a3d2260e"
  },
  {
   "cell_type": "code",
   "execution_count": 71,
   "outputs": [
    {
     "data": {
      "text/plain": "402"
     },
     "execution_count": 71,
     "metadata": {},
     "output_type": "execute_result"
    }
   ],
   "source": [
    "ic.size().getInfo()"
   ],
   "metadata": {
    "collapsed": false,
    "ExecuteTime": {
     "end_time": "2023-09-21T07:48:49.957731700Z",
     "start_time": "2023-09-21T07:48:43.879396Z"
    }
   },
   "id": "601ae0f9ecd46a89"
  },
  {
   "cell_type": "markdown",
   "source": [
    "En la celda anterior se definió la colección de imágenes con un rango de fechas determinado y que solo sean las que coinciden con el **TILE_ID** = 14QML, que abarca la región de interés."
   ],
   "metadata": {
    "collapsed": false
   },
   "id": "d29c02c5af9e704c"
  },
  {
   "cell_type": "markdown",
   "source": [
    "### AOI dentro de la imagen"
   ],
   "metadata": {
    "collapsed": false
   },
   "id": "2d1353e5520e9c1b"
  },
  {
   "cell_type": "markdown",
   "source": [
    "Vamos a asegurarnos que el área de interés se encuentre dentro de la imagen, para esto se comparan las geometrías de ambos elementos."
   ],
   "metadata": {
    "collapsed": false
   },
   "id": "c02e54b56d2717d6"
  },
  {
   "cell_type": "code",
   "execution_count": 38,
   "outputs": [],
   "source": [
    "def does_intersect(img, feature_geom):\n",
    "    \n",
    "    intersecta = img.geometry().intersects(feature_geom)\n",
    "    \n",
    "    return intersecta.getInfo()\n"
   ],
   "metadata": {
    "collapsed": false,
    "ExecuteTime": {
     "end_time": "2023-09-21T02:28:23.890148800Z",
     "start_time": "2023-09-21T02:28:23.855243800Z"
    }
   },
   "id": "17fc7822090b948f"
  },
  {
   "cell_type": "markdown",
   "source": [
    "### Filtro de nubes"
   ],
   "metadata": {
    "collapsed": false
   },
   "id": "a4c4211f9f39426e"
  },
  {
   "cell_type": "markdown",
   "source": [
    "En este apartado vamos a filtrar las imágenes que tienen nubes en la zona de estudio, las que presenten nubosidad en el área serán descartadas."
   ],
   "metadata": {
    "collapsed": false
   },
   "id": "e72cf2cffaf65c4a"
  },
  {
   "cell_type": "code",
   "execution_count": 51,
   "outputs": [],
   "source": [
    "def count_cloud_pixels(img, cloud_percent, aoi):\n",
    "    \n",
    "    cloud_band = img.select('MSK_CLDPRB').gt(cloud_percent)\n",
    "    pixel_count = cloud_band.reduceRegion(\n",
    "        reducer = ee.Reducer.frequencyHistogram(),\n",
    "        geometry = aoi,\n",
    "        scale = 10,\n",
    "        maxPixels = 1e9\n",
    "    )\n",
    "    \n",
    "    return pixel_count.get('MSK_CLDPRB').getInfo()"
   ],
   "metadata": {
    "collapsed": false,
    "ExecuteTime": {
     "end_time": "2023-09-21T02:45:10.776012500Z",
     "start_time": "2023-09-21T02:45:10.735088900Z"
    }
   },
   "id": "dcbc8e29059fac52"
  },
  {
   "cell_type": "markdown",
   "source": [
    "## Exportación de imágenes a Google Drive"
   ],
   "metadata": {
    "collapsed": false
   },
   "id": "645bdcaf0995720a"
  },
  {
   "cell_type": "markdown",
   "source": [
    "Teniendo los **id's** procedemos a exportar las imágenes a la carpeta de nuestra preferencia y con los parámetros deseados."
   ],
   "metadata": {
    "collapsed": false
   },
   "id": "aca0d16519a30c7d"
  },
  {
   "cell_type": "code",
   "execution_count": 67,
   "outputs": [],
   "source": [
    "def export_images(folder: str, img, bands, aoi, to_crs: str, filename):\n",
    "    \n",
    "    raw_image = img.select(bands)\n",
    "    \n",
    "    export_params = {\n",
    "        'driveFolder' : f'{folder}',\n",
    "        'fileFormat': 'GeoTiff',\n",
    "        'scale': 10,\n",
    "        'region': aoi,\n",
    "        'crs': to_crs\n",
    "    }\n",
    "    \n",
    "    task = ee.batch.Export.image.toDrive(image=raw_image, description=filename, **export_params)\n",
    "    \n",
    "    task.start()\n",
    "    task.status()\n",
    "    \n",
    "    return print(f\"{filename} exportada correctamente.\")"
   ],
   "metadata": {
    "collapsed": false,
    "ExecuteTime": {
     "end_time": "2023-09-21T03:39:23.519885700Z",
     "start_time": "2023-09-21T03:39:23.475484400Z"
    }
   },
   "id": "6e23b8d2727a75c4"
  },
  {
   "cell_type": "code",
   "execution_count": 72,
   "outputs": [
    {
     "name": "stdout",
     "output_type": "stream",
     "text": [
      "COPERNICUS/S2_SR_HARMONIZED/20210106T170711_20210106T171413_T14QML está completamente libre de nubes\n",
      "COPERNICUS_S2_SR_HARMONIZED_20210106T170711_20210106T171413_T14QML exportada correctamente.\n",
      "COPERNICUS/S2_SR_HARMONIZED/20210116T170641_20210116T171345_T14QML está completamente libre de nubes\n",
      "COPERNICUS_S2_SR_HARMONIZED_20210116T170641_20210116T171345_T14QML exportada correctamente.\n",
      "COPERNICUS/S2_SR_HARMONIZED/20210126T170601_20210126T171307_T14QML está completamente libre de nubes\n",
      "COPERNICUS_S2_SR_HARMONIZED_20210126T170601_20210126T171307_T14QML exportada correctamente.\n",
      "COPERNICUS/S2_SR_HARMONIZED/20210131T170529_20210131T171614_T14QML está completamente libre de nubes\n",
      "COPERNICUS_S2_SR_HARMONIZED_20210131T170529_20210131T171614_T14QML exportada correctamente.\n",
      "COPERNICUS/S2_SR_HARMONIZED/20210205T170501_20210205T171201_T14QML está completamente libre de nubes\n",
      "COPERNICUS_S2_SR_HARMONIZED_20210205T170501_20210205T171201_T14QML exportada correctamente.\n",
      "COPERNICUS/S2_SR_HARMONIZED/20210210T170439_20210210T171435_T14QML está completamente libre de nubes\n",
      "COPERNICUS_S2_SR_HARMONIZED_20210210T170439_20210210T171435_T14QML exportada correctamente.\n",
      "COPERNICUS/S2_SR_HARMONIZED/20210225T170251_20210225T171532_T14QML está completamente libre de nubes\n",
      "COPERNICUS_S2_SR_HARMONIZED_20210225T170251_20210225T171532_T14QML exportada correctamente.\n",
      "COPERNICUS/S2_SR_HARMONIZED/20210317T170031_20210317T171042_T14QML está completamente libre de nubes\n",
      "COPERNICUS_S2_SR_HARMONIZED_20210317T170031_20210317T171042_T14QML exportada correctamente.\n",
      "COPERNICUS/S2_SR_HARMONIZED/20210322T165859_20210322T171219_T14QML está completamente libre de nubes\n",
      "COPERNICUS_S2_SR_HARMONIZED_20210322T165859_20210322T171219_T14QML exportada correctamente.\n",
      "COPERNICUS/S2_SR_HARMONIZED/20210327T165921_20210327T170852_T14QML está completamente libre de nubes\n",
      "COPERNICUS_S2_SR_HARMONIZED_20210327T165921_20210327T170852_T14QML exportada correctamente.\n",
      "COPERNICUS/S2_SR_HARMONIZED/20210406T165851_20210406T171621_T14QML está completamente libre de nubes\n",
      "COPERNICUS_S2_SR_HARMONIZED_20210406T165851_20210406T171621_T14QML exportada correctamente.\n",
      "COPERNICUS/S2_SR_HARMONIZED/20210421T165839_20210421T170947_T14QML está completamente libre de nubes\n",
      "COPERNICUS_S2_SR_HARMONIZED_20210421T165839_20210421T170947_T14QML exportada correctamente.\n",
      "COPERNICUS/S2_SR_HARMONIZED/20210426T165851_20210426T170638_T14QML está completamente libre de nubes\n",
      "COPERNICUS_S2_SR_HARMONIZED_20210426T165851_20210426T170638_T14QML exportada correctamente.\n",
      "COPERNICUS/S2_SR_HARMONIZED/20210516T165851_20210516T170649_T14QML está completamente libre de nubes\n",
      "COPERNICUS_S2_SR_HARMONIZED_20210516T165851_20210516T170649_T14QML exportada correctamente.\n",
      "COPERNICUS/S2_SR_HARMONIZED/20210521T165849_20210521T171550_T14QML está completamente libre de nubes\n",
      "COPERNICUS_S2_SR_HARMONIZED_20210521T165849_20210521T171550_T14QML exportada correctamente.\n",
      "COPERNICUS/S2_SR_HARMONIZED/20210531T165849_20210531T171305_T14QML está completamente libre de nubes\n",
      "COPERNICUS_S2_SR_HARMONIZED_20210531T165849_20210531T171305_T14QML exportada correctamente.\n",
      "COPERNICUS/S2_SR_HARMONIZED/20210605T165851_20210605T171713_T14QML está completamente libre de nubes\n",
      "COPERNICUS_S2_SR_HARMONIZED_20210605T165851_20210605T171713_T14QML exportada correctamente.\n",
      "COPERNICUS/S2_SR_HARMONIZED/20210610T165849_20210610T171207_T14QML está completamente libre de nubes\n",
      "COPERNICUS_S2_SR_HARMONIZED_20210610T165849_20210610T171207_T14QML exportada correctamente.\n",
      "COPERNICUS/S2_SR_HARMONIZED/20210615T165851_20210615T170711_T14QML está completamente libre de nubes\n",
      "COPERNICUS_S2_SR_HARMONIZED_20210615T165851_20210615T170711_T14QML exportada correctamente.\n",
      "COPERNICUS/S2_SR_HARMONIZED/20210620T165849_20210620T171435_T14QML está completamente libre de nubes\n",
      "COPERNICUS_S2_SR_HARMONIZED_20210620T165849_20210620T171435_T14QML exportada correctamente.\n",
      "COPERNICUS/S2_SR_HARMONIZED/20210625T165851_20210625T170701_T14QML está completamente libre de nubes\n",
      "COPERNICUS_S2_SR_HARMONIZED_20210625T165851_20210625T170701_T14QML exportada correctamente.\n",
      "COPERNICUS/S2_SR_HARMONIZED/20210720T165849_20210720T171530_T14QML está completamente libre de nubes\n",
      "COPERNICUS_S2_SR_HARMONIZED_20210720T165849_20210720T171530_T14QML exportada correctamente.\n",
      "COPERNICUS/S2_SR_HARMONIZED/20210725T165901_20210725T170609_T14QML está completamente libre de nubes\n",
      "COPERNICUS_S2_SR_HARMONIZED_20210725T165901_20210725T170609_T14QML exportada correctamente.\n",
      "COPERNICUS/S2_SR_HARMONIZED/20210730T165849_20210730T171016_T14QML está completamente libre de nubes\n",
      "COPERNICUS_S2_SR_HARMONIZED_20210730T165849_20210730T171016_T14QML exportada correctamente.\n",
      "COPERNICUS/S2_SR_HARMONIZED/20210913T165911_20210913T170728_T14QML está completamente libre de nubes\n",
      "COPERNICUS_S2_SR_HARMONIZED_20210913T165911_20210913T170728_T14QML exportada correctamente.\n",
      "COPERNICUS/S2_SR_HARMONIZED/20210923T170031_20210923T171002_T14QML está completamente libre de nubes\n",
      "COPERNICUS_S2_SR_HARMONIZED_20210923T170031_20210923T171002_T14QML exportada correctamente.\n",
      "COPERNICUS/S2_SR_HARMONIZED/20211003T170141_20211003T170743_T14QML está completamente libre de nubes\n",
      "COPERNICUS_S2_SR_HARMONIZED_20211003T170141_20211003T170743_T14QML exportada correctamente.\n",
      "COPERNICUS/S2_SR_HARMONIZED/20211008T170119_20211008T170633_T14QML está completamente libre de nubes\n",
      "COPERNICUS_S2_SR_HARMONIZED_20211008T170119_20211008T170633_T14QML exportada correctamente.\n",
      "COPERNICUS/S2_SR_HARMONIZED/20211018T170319_20211018T171219_T14QML está completamente libre de nubes\n",
      "COPERNICUS_S2_SR_HARMONIZED_20211018T170319_20211018T171219_T14QML exportada correctamente.\n",
      "COPERNICUS/S2_SR_HARMONIZED/20211023T170351_20211023T171726_T14QML está completamente libre de nubes\n",
      "COPERNICUS_S2_SR_HARMONIZED_20211023T170351_20211023T171726_T14QML exportada correctamente.\n",
      "COPERNICUS/S2_SR_HARMONIZED/20211112T170541_20211112T171309_T14QML está completamente libre de nubes\n",
      "COPERNICUS_S2_SR_HARMONIZED_20211112T170541_20211112T171309_T14QML exportada correctamente.\n",
      "COPERNICUS/S2_SR_HARMONIZED/20211117T170559_20211117T170936_T14QML está completamente libre de nubes\n",
      "COPERNICUS_S2_SR_HARMONIZED_20211117T170559_20211117T170936_T14QML exportada correctamente.\n",
      "COPERNICUS/S2_SR_HARMONIZED/20211122T170621_20211122T171351_T14QML está completamente libre de nubes\n",
      "COPERNICUS_S2_SR_HARMONIZED_20211122T170621_20211122T171351_T14QML exportada correctamente.\n",
      "COPERNICUS/S2_SR_HARMONIZED/20211127T170639_20211127T171046_T14QML está completamente libre de nubes\n",
      "COPERNICUS_S2_SR_HARMONIZED_20211127T170639_20211127T171046_T14QML exportada correctamente.\n",
      "COPERNICUS/S2_SR_HARMONIZED/20211202T170701_20211202T171405_T14QML está completamente libre de nubes\n",
      "COPERNICUS_S2_SR_HARMONIZED_20211202T170701_20211202T171405_T14QML exportada correctamente.\n",
      "COPERNICUS/S2_SR_HARMONIZED/20211217T170719_20211217T171117_T14QML está completamente libre de nubes\n",
      "COPERNICUS_S2_SR_HARMONIZED_20211217T170719_20211217T171117_T14QML exportada correctamente.\n",
      "COPERNICUS/S2_SR_HARMONIZED/20211222T170731_20211222T171452_T14QML está completamente libre de nubes\n",
      "COPERNICUS_S2_SR_HARMONIZED_20211222T170731_20211222T171452_T14QML exportada correctamente.\n",
      "COPERNICUS/S2_SR_HARMONIZED/20211227T170719_20211227T171119_T14QML está completamente libre de nubes\n",
      "COPERNICUS_S2_SR_HARMONIZED_20211227T170719_20211227T171119_T14QML exportada correctamente.\n",
      "COPERNICUS/S2_SR_HARMONIZED/20220101T170721_20220101T171436_T14QML está completamente libre de nubes\n",
      "COPERNICUS_S2_SR_HARMONIZED_20220101T170721_20220101T171436_T14QML exportada correctamente.\n",
      "COPERNICUS/S2_SR_HARMONIZED/20220106T170709_20220106T171047_T14QML está completamente libre de nubes\n",
      "COPERNICUS_S2_SR_HARMONIZED_20220106T170709_20220106T171047_T14QML exportada correctamente.\n",
      "COPERNICUS/S2_SR_HARMONIZED/20220116T170639_20220116T171021_T14QML está completamente libre de nubes\n",
      "COPERNICUS_S2_SR_HARMONIZED_20220116T170639_20220116T171021_T14QML exportada correctamente.\n",
      "COPERNICUS/S2_SR_HARMONIZED/20220131T170531_20220131T171022_T14QML está completamente libre de nubes\n",
      "COPERNICUS_S2_SR_HARMONIZED_20220131T170531_20220131T171022_T14QML exportada correctamente.\n",
      "COPERNICUS/S2_SR_HARMONIZED/20220215T170359_20220215T171319_T14QML está completamente libre de nubes\n",
      "COPERNICUS_S2_SR_HARMONIZED_20220215T170359_20220215T171319_T14QML exportada correctamente.\n",
      "COPERNICUS/S2_SR_HARMONIZED/20220302T170221_20220302T171257_T14QML está completamente libre de nubes\n",
      "COPERNICUS_S2_SR_HARMONIZED_20220302T170221_20220302T171257_T14QML exportada correctamente.\n",
      "COPERNICUS/S2_SR_HARMONIZED/20220307T170049_20220307T170827_T14QML está completamente libre de nubes\n",
      "COPERNICUS_S2_SR_HARMONIZED_20220307T170049_20220307T170827_T14QML exportada correctamente.\n",
      "COPERNICUS/S2_SR_HARMONIZED/20220317T165929_20220317T171448_T14QML está completamente libre de nubes\n",
      "COPERNICUS_S2_SR_HARMONIZED_20220317T165929_20220317T171448_T14QML exportada correctamente.\n",
      "COPERNICUS/S2_SR_HARMONIZED/20220322T170001_20220322T170817_T14QML está completamente libre de nubes\n",
      "COPERNICUS_S2_SR_HARMONIZED_20220322T170001_20220322T170817_T14QML exportada correctamente.\n",
      "COPERNICUS/S2_SR_HARMONIZED/20220327T165849_20220327T170621_T14QML está completamente libre de nubes\n",
      "COPERNICUS_S2_SR_HARMONIZED_20220327T165849_20220327T170621_T14QML exportada correctamente.\n",
      "COPERNICUS/S2_SR_HARMONIZED/20220406T165839_20220406T171601_T14QML está completamente libre de nubes\n",
      "COPERNICUS_S2_SR_HARMONIZED_20220406T165839_20220406T171601_T14QML exportada correctamente.\n",
      "COPERNICUS/S2_SR_HARMONIZED/20220411T165851_20220411T171437_T14QML está completamente libre de nubes\n",
      "COPERNICUS_S2_SR_HARMONIZED_20220411T165851_20220411T171437_T14QML exportada correctamente.\n",
      "COPERNICUS/S2_SR_HARMONIZED/20220416T165839_20220416T170706_T14QML está completamente libre de nubes\n",
      "COPERNICUS_S2_SR_HARMONIZED_20220416T165839_20220416T170706_T14QML exportada correctamente.\n",
      "COPERNICUS/S2_SR_HARMONIZED/20220501T165851_20220501T171639_T14QML está completamente libre de nubes\n",
      "COPERNICUS_S2_SR_HARMONIZED_20220501T165851_20220501T171639_T14QML exportada correctamente.\n",
      "COPERNICUS/S2_SR_HARMONIZED/20220516T165849_20220516T170915_T14QML está completamente libre de nubes\n",
      "COPERNICUS_S2_SR_HARMONIZED_20220516T165849_20220516T170915_T14QML exportada correctamente.\n",
      "COPERNICUS/S2_SR_HARMONIZED/20220521T165851_20220521T171441_T14QML está completamente libre de nubes\n",
      "COPERNICUS_S2_SR_HARMONIZED_20220521T165851_20220521T171441_T14QML exportada correctamente.\n",
      "COPERNICUS/S2_SR_HARMONIZED/20220526T165849_20220526T170934_T14QML está completamente libre de nubes\n",
      "COPERNICUS_S2_SR_HARMONIZED_20220526T165849_20220526T170934_T14QML exportada correctamente.\n",
      "COPERNICUS/S2_SR_HARMONIZED/20220605T165849_20220605T171001_T14QML está completamente libre de nubes\n",
      "COPERNICUS_S2_SR_HARMONIZED_20220605T165849_20220605T171001_T14QML exportada correctamente.\n",
      "COPERNICUS/S2_SR_HARMONIZED/20220610T165901_20220610T171625_T14QML está completamente libre de nubes\n",
      "COPERNICUS_S2_SR_HARMONIZED_20220610T165901_20220610T171625_T14QML exportada correctamente.\n",
      "COPERNICUS/S2_SR_HARMONIZED/20220630T165901_20220630T171542_T14QML está completamente libre de nubes\n",
      "COPERNICUS_S2_SR_HARMONIZED_20220630T165901_20220630T171542_T14QML exportada correctamente.\n",
      "COPERNICUS/S2_SR_HARMONIZED/20220705T165849_20220705T170541_T14QML está completamente libre de nubes\n",
      "COPERNICUS_S2_SR_HARMONIZED_20220705T165849_20220705T170541_T14QML exportada correctamente.\n",
      "COPERNICUS/S2_SR_HARMONIZED/20220710T165911_20220710T170824_T14QML está completamente libre de nubes\n",
      "COPERNICUS_S2_SR_HARMONIZED_20220710T165911_20220710T170824_T14QML exportada correctamente.\n",
      "COPERNICUS/S2_SR_HARMONIZED/20220715T165849_20220715T170527_T14QML está completamente libre de nubes\n",
      "COPERNICUS_S2_SR_HARMONIZED_20220715T165849_20220715T170527_T14QML exportada correctamente.\n",
      "COPERNICUS/S2_SR_HARMONIZED/20220720T165901_20220720T171004_T14QML está completamente libre de nubes\n",
      "COPERNICUS_S2_SR_HARMONIZED_20220720T165901_20220720T171004_T14QML exportada correctamente.\n",
      "COPERNICUS/S2_SR_HARMONIZED/20220725T165849_20220725T171700_T14QML está completamente libre de nubes\n",
      "COPERNICUS_S2_SR_HARMONIZED_20220725T165849_20220725T171700_T14QML exportada correctamente.\n",
      "COPERNICUS/S2_SR_HARMONIZED/20220730T165901_20220730T171559_T14QML está completamente libre de nubes\n",
      "COPERNICUS_S2_SR_HARMONIZED_20220730T165901_20220730T171559_T14QML exportada correctamente.\n",
      "COPERNICUS/S2_SR_HARMONIZED/20220809T165901_20220809T171214_T14QML está completamente libre de nubes\n",
      "COPERNICUS_S2_SR_HARMONIZED_20220809T165901_20220809T171214_T14QML exportada correctamente.\n",
      "COPERNICUS/S2_SR_HARMONIZED/20220814T165849_20220814T171607_T14QML está completamente libre de nubes\n",
      "COPERNICUS_S2_SR_HARMONIZED_20220814T165849_20220814T171607_T14QML exportada correctamente.\n",
      "COPERNICUS/S2_SR_HARMONIZED/20220824T165849_20220824T171709_T14QML está completamente libre de nubes\n",
      "COPERNICUS_S2_SR_HARMONIZED_20220824T165849_20220824T171709_T14QML exportada correctamente.\n",
      "COPERNICUS/S2_SR_HARMONIZED/20220913T165849_20220913T171153_T14QML está completamente libre de nubes\n",
      "COPERNICUS_S2_SR_HARMONIZED_20220913T165849_20220913T171153_T14QML exportada correctamente.\n",
      "COPERNICUS/S2_SR_HARMONIZED/20220923T170029_20220923T170540_T14QML está completamente libre de nubes\n",
      "COPERNICUS_S2_SR_HARMONIZED_20220923T170029_20220923T170540_T14QML exportada correctamente.\n",
      "COPERNICUS/S2_SR_HARMONIZED/20221003T170129_20221003T171040_T14QML está completamente libre de nubes\n",
      "COPERNICUS_S2_SR_HARMONIZED_20221003T170129_20221003T171040_T14QML exportada correctamente.\n",
      "COPERNICUS/S2_SR_HARMONIZED/20221013T170239_20221013T171026_T14QML está completamente libre de nubes\n",
      "COPERNICUS_S2_SR_HARMONIZED_20221013T170239_20221013T171026_T14QML exportada correctamente.\n",
      "COPERNICUS/S2_SR_HARMONIZED/20221127T170641_20221127T171712_T14QML está completamente libre de nubes\n",
      "COPERNICUS_S2_SR_HARMONIZED_20221127T170641_20221127T171712_T14QML exportada correctamente.\n",
      "COPERNICUS/S2_SR_HARMONIZED/20221222T170729_20221222T170918_T14QML está completamente libre de nubes\n",
      "COPERNICUS_S2_SR_HARMONIZED_20221222T170729_20221222T170918_T14QML exportada correctamente.\n",
      "COPERNICUS/S2_SR_HARMONIZED/20221227T170721_20221227T171114_T14QML está completamente libre de nubes\n",
      "COPERNICUS_S2_SR_HARMONIZED_20221227T170721_20221227T171114_T14QML exportada correctamente.\n",
      "COPERNICUS/S2_SR_HARMONIZED/20230106T170711_20230106T171618_T14QML está completamente libre de nubes\n",
      "COPERNICUS_S2_SR_HARMONIZED_20230106T170711_20230106T171618_T14QML exportada correctamente.\n",
      "COPERNICUS/S2_SR_HARMONIZED/20230116T170641_20230116T171654_T14QML está completamente libre de nubes\n",
      "COPERNICUS_S2_SR_HARMONIZED_20230116T170641_20230116T171654_T14QML exportada correctamente.\n",
      "COPERNICUS/S2_SR_HARMONIZED/20230205T170511_20230205T171219_T14QML está completamente libre de nubes\n",
      "COPERNICUS_S2_SR_HARMONIZED_20230205T170511_20230205T171219_T14QML exportada correctamente.\n",
      "COPERNICUS/S2_SR_HARMONIZED/20230215T170401_20230215T171357_T14QML está completamente libre de nubes\n",
      "COPERNICUS_S2_SR_HARMONIZED_20230215T170401_20230215T171357_T14QML exportada correctamente.\n",
      "COPERNICUS/S2_SR_HARMONIZED/20230302T170219_20230302T171139_T14QML está completamente libre de nubes\n",
      "COPERNICUS_S2_SR_HARMONIZED_20230302T170219_20230302T171139_T14QML exportada correctamente.\n",
      "COPERNICUS/S2_SR_HARMONIZED/20230307T170141_20230307T171552_T14QML está completamente libre de nubes\n",
      "COPERNICUS_S2_SR_HARMONIZED_20230307T170141_20230307T171552_T14QML exportada correctamente.\n",
      "COPERNICUS/S2_SR_HARMONIZED/20230312T170119_20230312T171253_T14QML está completamente libre de nubes\n",
      "COPERNICUS_S2_SR_HARMONIZED_20230312T170119_20230312T171253_T14QML exportada correctamente.\n",
      "COPERNICUS/S2_SR_HARMONIZED/20230317T170031_20230317T171544_T14QML está completamente libre de nubes\n",
      "COPERNICUS_S2_SR_HARMONIZED_20230317T170031_20230317T171544_T14QML exportada correctamente.\n",
      "COPERNICUS/S2_SR_HARMONIZED/20230327T165921_20230327T170854_T14QML está completamente libre de nubes\n",
      "COPERNICUS_S2_SR_HARMONIZED_20230327T165921_20230327T170854_T14QML exportada correctamente.\n",
      "COPERNICUS/S2_SR_HARMONIZED/20230421T165849_20230421T171211_T14QML está completamente libre de nubes\n",
      "COPERNICUS_S2_SR_HARMONIZED_20230421T165849_20230421T171211_T14QML exportada correctamente.\n",
      "COPERNICUS/S2_SR_HARMONIZED/20230501T165849_20230501T171227_T14QML está completamente libre de nubes\n",
      "COPERNICUS_S2_SR_HARMONIZED_20230501T165849_20230501T171227_T14QML exportada correctamente.\n",
      "COPERNICUS/S2_SR_HARMONIZED/20230516T165851_20230516T171315_T14QML está completamente libre de nubes\n",
      "COPERNICUS_S2_SR_HARMONIZED_20230516T165851_20230516T171315_T14QML exportada correctamente.\n",
      "COPERNICUS/S2_SR_HARMONIZED/20230526T165901_20230526T170604_T14QML está completamente libre de nubes\n",
      "COPERNICUS_S2_SR_HARMONIZED_20230526T165901_20230526T170604_T14QML exportada correctamente.\n",
      "COPERNICUS/S2_SR_HARMONIZED/20230605T165851_20230605T170609_T14QML está completamente libre de nubes\n",
      "COPERNICUS_S2_SR_HARMONIZED_20230605T165851_20230605T170609_T14QML exportada correctamente.\n",
      "COPERNICUS/S2_SR_HARMONIZED/20230610T165849_20230610T171631_T14QML está completamente libre de nubes\n",
      "COPERNICUS_S2_SR_HARMONIZED_20230610T165849_20230610T171631_T14QML exportada correctamente.\n",
      "COPERNICUS/S2_SR_HARMONIZED/20230615T165901_20230615T171239_T14QML está completamente libre de nubes\n",
      "COPERNICUS_S2_SR_HARMONIZED_20230615T165901_20230615T171239_T14QML exportada correctamente.\n",
      "COPERNICUS/S2_SR_HARMONIZED/20230620T165849_20230620T171648_T14QML está completamente libre de nubes\n",
      "COPERNICUS_S2_SR_HARMONIZED_20230620T165849_20230620T171648_T14QML exportada correctamente.\n",
      "COPERNICUS/S2_SR_HARMONIZED/20230625T165851_20230625T171643_T14QML está completamente libre de nubes\n",
      "COPERNICUS_S2_SR_HARMONIZED_20230625T165851_20230625T171643_T14QML exportada correctamente.\n",
      "COPERNICUS/S2_SR_HARMONIZED/20230705T165851_20230705T170610_T14QML está completamente libre de nubes\n",
      "COPERNICUS_S2_SR_HARMONIZED_20230705T165851_20230705T170610_T14QML exportada correctamente.\n",
      "COPERNICUS/S2_SR_HARMONIZED/20230710T165849_20230710T171627_T14QML está completamente libre de nubes\n",
      "COPERNICUS_S2_SR_HARMONIZED_20230710T165849_20230710T171627_T14QML exportada correctamente.\n",
      "COPERNICUS/S2_SR_HARMONIZED/20230715T165851_20230715T170556_T14QML está completamente libre de nubes\n",
      "COPERNICUS_S2_SR_HARMONIZED_20230715T165851_20230715T170556_T14QML exportada correctamente.\n",
      "COPERNICUS/S2_SR_HARMONIZED/20230720T165849_20230720T171534_T14QML está completamente libre de nubes\n",
      "COPERNICUS_S2_SR_HARMONIZED_20230720T165849_20230720T171534_T14QML exportada correctamente.\n",
      "COPERNICUS/S2_SR_HARMONIZED/20230804T165851_20230804T171258_T14QML está completamente libre de nubes\n",
      "COPERNICUS_S2_SR_HARMONIZED_20230804T165851_20230804T171258_T14QML exportada correctamente.\n",
      "COPERNICUS/S2_SR_HARMONIZED/20230809T165849_20230809T171526_T14QML está completamente libre de nubes\n",
      "COPERNICUS_S2_SR_HARMONIZED_20230809T165849_20230809T171526_T14QML exportada correctamente.\n",
      "COPERNICUS/S2_SR_HARMONIZED/20230814T165901_20230814T170950_T14QML está completamente libre de nubes\n",
      "COPERNICUS_S2_SR_HARMONIZED_20230814T165901_20230814T170950_T14QML exportada correctamente.\n",
      "COPERNICUS/S2_SR_HARMONIZED/20230829T165849_20230829T171159_T14QML está completamente libre de nubes\n",
      "COPERNICUS_S2_SR_HARMONIZED_20230829T165849_20230829T171159_T14QML exportada correctamente.\n",
      "Dentro: 193, No coincide: 209, Libres de nubes: 100\n"
     ]
    }
   ],
   "source": [
    "inside = 0\n",
    "out = 0\n",
    "cloud_free = 0\n",
    "\n",
    "for image in ic.getInfo()['features']:\n",
    "    resultado = does_intersect(img=ee.Image(image['id']), feature_geom=fc)\n",
    "    #print(resultado)\n",
    "    if resultado:\n",
    "        #print(f\"La imagen {image['id']} intersecta\")\n",
    "        counted_pixels = count_cloud_pixels(img=ee.Image(image['id']), cloud_percent=50, aoi=fc)\n",
    "        #print(counted_pixels)\n",
    "        if '1' not in counted_pixels:\n",
    "            print(f\"{image['id']} está completamente libre de nubes\")\n",
    "            export_images(folder='Tesis_caña', img=ee.Image(image['id']),bands=['B2', 'B3', 'B4', 'B8', 'B11', 'B12'], aoi=fc.geometry(), to_crs='EPSG:32614', filename=image['id'].replace('/', '_'))\n",
    "            cloud_free += 1\n",
    "        #free_pixels, cloud_pixels = counted_pixels['0'], counted_pixels['1']\n",
    "        #print(free_pixels, cloud_pixels)\n",
    "        inside += 1\n",
    "    else:\n",
    "        #print(f\"La imagen {image['id']} no coincide\")\n",
    "        out += 1\n",
    "        \n",
    "print(f'Dentro: {inside}, No coincide: {out}, Libres de nubes: {cloud_free}')"
   ],
   "metadata": {
    "collapsed": false,
    "ExecuteTime": {
     "end_time": "2023-09-21T08:00:50.484446100Z",
     "start_time": "2023-09-21T07:49:11.158509600Z"
    }
   },
   "id": "f01faf1cfbcb8978"
  },
  {
   "cell_type": "code",
   "execution_count": null,
   "outputs": [],
   "source": [],
   "metadata": {
    "collapsed": false
   },
   "id": "92f5ac2343744a0"
  }
 ],
 "metadata": {
  "kernelspec": {
   "display_name": "Python 3",
   "language": "python",
   "name": "python3"
  },
  "language_info": {
   "codemirror_mode": {
    "name": "ipython",
    "version": 2
   },
   "file_extension": ".py",
   "mimetype": "text/x-python",
   "name": "python",
   "nbconvert_exporter": "python",
   "pygments_lexer": "ipython2",
   "version": "2.7.6"
  }
 },
 "nbformat": 4,
 "nbformat_minor": 5
}
