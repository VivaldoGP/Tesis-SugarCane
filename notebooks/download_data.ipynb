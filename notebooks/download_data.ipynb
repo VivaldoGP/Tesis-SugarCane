{
 "cells": [
  {
   "cell_type": "markdown",
   "source": [
    "## Librerías"
   ],
   "metadata": {
    "collapsed": false
   },
   "id": "3f79665c2a37ab73"
  },
  {
   "cell_type": "code",
   "execution_count": 1,
   "outputs": [],
   "source": [
    "import ee\n",
    "import json"
   ],
   "metadata": {
    "collapsed": false,
    "ExecuteTime": {
     "end_time": "2023-09-27T23:48:59.505795400Z",
     "start_time": "2023-09-27T23:48:58.923855700Z"
    }
   },
   "id": "de2edc22d483a6b9"
  },
  {
   "cell_type": "markdown",
   "source": [
    "## Autenticación"
   ],
   "metadata": {
    "collapsed": false
   },
   "id": "4a533b04fa7adb53"
  },
  {
   "cell_type": "markdown",
   "source": [
    "Primeros autenticarnos con nuestras credenciales, para esto necesitamos registrarnos."
   ],
   "metadata": {
    "collapsed": false
   },
   "id": "24276c4099d3e570"
  },
  {
   "cell_type": "code",
   "execution_count": 2,
   "outputs": [
    {
     "data": {
      "text/plain": "<IPython.core.display.HTML object>",
      "text/html": "<p>To authorize access needed by Earth Engine, open the following\n        URL in a web browser and follow the instructions:</p>\n        <p><a href=https://code.earthengine.google.com/client-auth?scopes=https%3A//www.googleapis.com/auth/earthengine%20https%3A//www.googleapis.com/auth/devstorage.full_control&request_id=ZzYlaixzWDjryZZsQmUhk1ZeiXen2iQ3sPqc4UZ3KNs&tc=jCiio3I19kDSCRZc7x6RideBqVPXtLmOuMEsFTeAFp8&cc=ff7nM210aPsXS73XUkL3ViJy84wIjnJ5m7tz_YSzN28>https://code.earthengine.google.com/client-auth?scopes=https%3A//www.googleapis.com/auth/earthengine%20https%3A//www.googleapis.com/auth/devstorage.full_control&request_id=ZzYlaixzWDjryZZsQmUhk1ZeiXen2iQ3sPqc4UZ3KNs&tc=jCiio3I19kDSCRZc7x6RideBqVPXtLmOuMEsFTeAFp8&cc=ff7nM210aPsXS73XUkL3ViJy84wIjnJ5m7tz_YSzN28</a></p>\n        <p>The authorization workflow will generate a code, which you should paste in the box below.</p>\n        "
     },
     "metadata": {},
     "output_type": "display_data"
    },
    {
     "name": "stdout",
     "output_type": "stream",
     "text": [
      "\n",
      "Successfully saved authorization token.\n"
     ]
    }
   ],
   "source": [
    "ee.Authenticate()"
   ],
   "metadata": {
    "collapsed": false,
    "ExecuteTime": {
     "end_time": "2023-09-27T23:55:16.634443800Z",
     "start_time": "2023-09-27T23:54:51.448464900Z"
    }
   },
   "id": "f7c6bc53a9634778"
  },
  {
   "cell_type": "markdown",
   "source": [
    "## Inicialización de la librería"
   ],
   "metadata": {
    "collapsed": false
   },
   "id": "3da324e56ba1cc16"
  },
  {
   "cell_type": "code",
   "execution_count": 3,
   "outputs": [],
   "source": [
    "ee.Initialize()"
   ],
   "metadata": {
    "collapsed": false,
    "ExecuteTime": {
     "end_time": "2023-09-27T23:55:24.832047100Z",
     "start_time": "2023-09-27T23:55:20.778460Z"
    }
   },
   "id": "634bdd45d812c4c8"
  },
  {
   "cell_type": "markdown",
   "source": [
    "## Delimitación de la zona/zonas de estudio"
   ],
   "metadata": {
    "collapsed": false
   },
   "id": "eae310a7fa29f08b"
  },
  {
   "cell_type": "markdown",
   "source": [
    "Para esto vamos a obtener la geometría desde un archivo geojson."
   ],
   "metadata": {
    "collapsed": false
   },
   "id": "3f39c76431ed4205"
  },
  {
   "cell_type": "code",
   "execution_count": 6,
   "outputs": [],
   "source": [
    "with open(r'C:\\Users\\DELL\\PycharmProjects\\Tesis\\Parcelas\\Parcelas_estudio.geojson', encoding='utf-8') as geom:\n",
    "    rancho = json.load(geom)"
   ],
   "metadata": {
    "collapsed": false,
    "ExecuteTime": {
     "end_time": "2023-09-28T00:00:33.695971Z",
     "start_time": "2023-09-28T00:00:33.677951900Z"
    }
   },
   "id": "a8d19c79e5b17444"
  },
  {
   "cell_type": "code",
   "execution_count": 7,
   "outputs": [
    {
     "data": {
      "text/plain": "{'type': 'FeatureCollection',\n 'features': [{'type': 'Feature',\n   'properties': {'Id': 1,\n    'Productor': 'Héctor Hernandez Gallegos',\n    'Ciclo': 'Soca',\n    'Riego': 'Gravedad',\n    'Rendimiento': 48,\n    'Variedad': 'CP:722086',\n    'Siembra': '2022-02-02',\n    'Cosecha': '2023-04-15'},\n   'geometry': {'coordinates': [[[-99.00541708524658, 22.78566239152771],\n      [-99.00613748941505, 22.785145228609665],\n      [-99.0068490348283, 22.784586124912096],\n      [-99.0070079332049, 22.783308357242205],\n      [-99.00679241075494, 22.782804966444218],\n      [-99.00416577564236, 22.782461414232813],\n      [-99.00370659893896, 22.78545164019698],\n      [-99.00541708524658, 22.78566239152771]]],\n    'type': 'Polygon'}},\n  {'type': 'Feature',\n   'properties': {'Id': 2,\n    'Productor': 'Maria Antonia Torres Alvarado',\n    'Ciclo': 'Resoca 1',\n    'Riego': 'Gravedad',\n    'Rendimiento': 60,\n    'Variedad': 'CP:722086',\n    'Siembra': '2022-02-20',\n    'Cosecha': '2023-04-12'},\n   'geometry': {'coordinates': [[[-98.99928320016905, 22.81571006707844],\n      [-98.99885096549728, 22.81453401691138],\n      [-98.99432031291144, 22.813449161630743],\n      [-98.99412762998541, 22.814596419828035],\n      [-98.99928320016905, 22.81571006707844]]],\n    'type': 'Polygon'}},\n  {'type': 'Feature',\n   'properties': {'Id': 3,\n    'Productor': 'Juan Ariel Izaguirre Paz',\n    'Ciclo': 'Soca',\n    'Riego': 'Bombeo',\n    'Rendimiento': 45,\n    'Variedad': 'CP:722086',\n    'Siembra': '2022-02-05',\n    'Cosecha': '2023-03-01'},\n   'geometry': {'coordinates': [[[-99.05606116118018, 22.85935448324608],\n      [-99.05612073599973, 22.859276060529737],\n      [-99.05612073599973, 22.858448698113065],\n      [-99.05607392721299, 22.85761348829017],\n      [-99.05473774911803, 22.857691911965887],\n      [-99.05467391895421, 22.859448590446164],\n      [-99.05606116118018, 22.85935448324608]]],\n    'type': 'Polygon'}},\n  {'type': 'Feature',\n   'properties': {'Id': 4,\n    'Productor': 'Alfredo Esaul Cruz Paz',\n    'Ciclo': 'Resoca',\n    'Riego': 'Gravedad',\n    'Rendimiento': 50,\n    'Variedad': 'CP:722086',\n    'Siembra': '2022-01-15',\n    'Cosecha': '2023-03-20'},\n   'geometry': {'coordinates': [[[-99.00964917617155, 22.794911778187114],\n      [-99.01128923315996, 22.79369257563735],\n      [-99.01132692032171, 22.793569041313503],\n      [-99.01130598300963, 22.79338760007117],\n      [-99.01107567257826, 22.792893460997107],\n      [-99.01081604991035, 22.792298947550208],\n      [-99.01058992694139, 22.791854991013295],\n      [-99.0104517406828, 22.791808665030103],\n      [-99.01024655502593, 22.791808665030103],\n      [-99.01007068160558, 22.791854991013295],\n      [-99.00978174670114, 22.791963084912084],\n      [-99.00949699925872, 22.792287366094286],\n      [-99.0088724931437, 22.79357911207873],\n      [-99.00825751699254, 22.795103771383594],\n      [-99.00964917617155, 22.794911778187114]]],\n    'type': 'Polygon'}},\n  {'type': 'Feature',\n   'properties': {'Id': 5,\n    'Productor': 'no sé',\n    'Ciclo': 'Soca',\n    'Riego': 'Gravedad',\n    'Rendimiento': 75,\n    'Variedad': 'CP:722086',\n    'Siembra': '2022-02-02',\n    'Cosecha': '2023-04-15'},\n   'geometry': {'coordinates': [[[-99.01531648780966, 22.940140291151266],\n      [-99.01597998704659, 22.939638600733915],\n      [-99.01458981101187, 22.937646132035823],\n      [-99.00277358618932, 22.937739162076966],\n      [-99.00281220824161, 22.940260661154028],\n      [-99.01531648780966, 22.940140291151266]]],\n    'type': 'Polygon'}},\n  {'type': 'Feature',\n   'properties': {'Id': 6,\n    'Productor': 'no sé',\n    'Ciclo': 'Soca',\n    'Riego': 'Gravedad',\n    'Rendimiento': 48,\n    'Variedad': 'CP:722086',\n    'Siembra': '2022-02-02',\n    'Cosecha': '2023-04-15'},\n   'geometry': {'coordinates': [[[-99.01206307476863, 22.942331127412473],\n      [-99.01176438913862, 22.94034519446025],\n      [-99.01020123447931, 22.94034519446025],\n      [-99.01020444401705, 22.94350314155193],\n      [-99.01036717855676, 22.94350314155193],\n      [-99.01206307476863, 22.942331127412473]]],\n    'type': 'Polygon'}},\n  {'type': 'Feature',\n   'properties': {'Id': 7,\n    'Productor': 'no sé',\n    'Ciclo': 'Soca',\n    'Riego': 'Gravedad',\n    'Rendimiento': 48,\n    'Variedad': 'CP:722086',\n    'Siembra': '2022-02-02',\n    'Cosecha': '2023-04-15'},\n   'geometry': {'coordinates': [[[-99.00998847156791, 22.94356641120993],\n      [-99.01000147647382, 22.942275333661172],\n      [-99.01001807112736, 22.940356631606505],\n      [-99.00725034771308, 22.940416325382927],\n      [-99.00728926921698, 22.943631191359515],\n      [-99.00998847156791, 22.94356641120993]]],\n    'type': 'Polygon'}},\n  {'type': 'Feature',\n   'properties': {'Id': 8,\n    'Productor': 'no sé',\n    'Ciclo': 'Soca',\n    'Riego': 'Gravedad',\n    'Rendimiento': 48,\n    'Variedad': 'CP:722086',\n    'Siembra': '2022-02-02',\n    'Cosecha': '2023-04-15'},\n   'geometry': {'coordinates': [[[-99.00721267538637, 22.943633780301113],\n      [-99.00721162879749, 22.943562320519916],\n      [-99.00718829955406, 22.940420554690192],\n      [-99.00522116123048, 22.940451099774094],\n      [-99.00522486336826, 22.943569270069318],\n      [-99.0052876432769, 22.94367576829002],\n      [-99.00721267538637, 22.943633780301113]]],\n    'type': 'Polygon'}},\n  {'type': 'Feature',\n   'properties': {'Id': 9,\n    'Productor': 'no sé',\n    'Ciclo': 'Soca',\n    'Riego': 'Gravedad',\n    'Rendimiento': 48,\n    'Variedad': 'CP:722086',\n    'Siembra': '2022-02-02',\n    'Cosecha': '2023-04-15'},\n   'geometry': {'coordinates': [[[-99.00504465288036, 22.943647995689446],\n      [-99.00504654166164, 22.940425514918203],\n      [-99.00280418194407, 22.940433386631284],\n      [-99.00283490284265, 22.94366449206288],\n      [-99.00504465288036, 22.943647995689446]]],\n    'type': 'Polygon'}},\n  {'type': 'Feature',\n   'properties': {'Id': 10,\n    'Productor': 'no sé',\n    'Ciclo': 'Soca',\n    'Riego': 'Gravedad',\n    'Rendimiento': 48,\n    'Variedad': 'CP:722086',\n    'Siembra': '2022-02-02',\n    'Cosecha': '2023-04-15'},\n   'geometry': {'coordinates': [[[-99.00253309315832, 22.943647528857426],\n      [-99.00259467428181, 22.940361474134264],\n      [-98.99818958800518, 22.940420498262768],\n      [-98.99771175386273, 22.94214071262428],\n      [-98.99756603032353, 22.942872692402304],\n      [-98.99748389523772, 22.94371202434158],\n      [-99.00253309315832, 22.943647528857426]]],\n    'type': 'Polygon'}},\n  {'type': 'Feature',\n   'properties': {'Id': 11,\n    'Productor': 'no sé',\n    'Ciclo': 'Soca',\n    'Riego': 'Gravedad',\n    'Rendimiento': 48,\n    'Variedad': 'CP:722086',\n    'Siembra': '2022-02-02',\n    'Cosecha': '2023-04-15'},\n   'geometry': {'coordinates': [[[-99.00259933462956, 22.940286780454457],\n      [-99.00255653316077, 22.937753949626398],\n      [-98.99895961524335, 22.93780410573551],\n      [-98.99824859832214, 22.940236663467374],\n      [-98.99825960391682, 22.940355751817606],\n      [-99.00259933462956, 22.940286780454457]]],\n    'type': 'Polygon'}}]}"
     },
     "execution_count": 7,
     "metadata": {},
     "output_type": "execute_result"
    }
   ],
   "source": [
    "rancho"
   ],
   "metadata": {
    "collapsed": false,
    "ExecuteTime": {
     "end_time": "2023-09-28T00:00:34.544404100Z",
     "start_time": "2023-09-28T00:00:34.500725100Z"
    }
   },
   "id": "84b6c7b7bda40287"
  },
  {
   "cell_type": "markdown",
   "source": [
    "## Pasamos este json a un FeatureCollection"
   ],
   "metadata": {
    "collapsed": false
   },
   "id": "3615ea17f2cf953f"
  },
  {
   "cell_type": "markdown",
   "source": [
    "Esto para poder operar las geometrías con las colecciones de imágenes."
   ],
   "metadata": {
    "collapsed": false
   },
   "id": "3b063d58002f04d1"
  },
  {
   "cell_type": "code",
   "execution_count": 8,
   "outputs": [],
   "source": [
    "fc = ee.FeatureCollection(rancho)"
   ],
   "metadata": {
    "collapsed": false,
    "ExecuteTime": {
     "end_time": "2023-09-28T00:00:51.560466200Z",
     "start_time": "2023-09-28T00:00:51.524953700Z"
    }
   },
   "id": "28ba2d9a023f7d4e"
  },
  {
   "cell_type": "code",
   "execution_count": 52,
   "outputs": [],
   "source": [
    "fc_bbox = fc.geometry().bounds()"
   ],
   "metadata": {
    "collapsed": false,
    "ExecuteTime": {
     "end_time": "2023-09-28T00:58:59.158840600Z",
     "start_time": "2023-09-28T00:58:59.108893200Z"
    }
   },
   "id": "b7895228ea743a7e"
  },
  {
   "cell_type": "markdown",
   "source": [
    "Vamos a calcular el área para ver que coincida con las dimensiones esperadas."
   ],
   "metadata": {
    "collapsed": false
   },
   "id": "577102f66c15027"
  },
  {
   "cell_type": "code",
   "execution_count": 77,
   "outputs": [
    {
     "name": "stdout",
     "output_type": "stream",
     "text": [
      "el area es 9.228540687314766 ha\n",
      "{'Ciclo': 'Soca', 'Cosecha': '2023-04-15', 'Id': 1, 'Productor': 'Héctor Hernandez Gallegos', 'Rendimiento': 48, 'Riego': 'Gravedad', 'Siembra': '2022-02-02', 'Variedad': 'CP:722086'}\n",
      "el area es 6.261950159138122 ha\n",
      "{'Ciclo': 'Resoca 1', 'Cosecha': '2023-04-12', 'Id': 2, 'Productor': 'Maria Antonia Torres Alvarado', 'Rendimiento': 60, 'Riego': 'Gravedad', 'Siembra': '2022-02-20', 'Variedad': 'CP:722086'}\n",
      "el area es 2.790029909333163 ha\n",
      "{'Ciclo': 'Soca', 'Cosecha': '2023-03-01', 'Id': 3, 'Productor': 'Juan Ariel Izaguirre Paz', 'Rendimiento': 45, 'Riego': 'Bombeo', 'Siembra': '2022-02-05', 'Variedad': 'CP:722086'}\n",
      "el area es 6.4028004760815245 ha\n",
      "{'Ciclo': 'Resoca', 'Cosecha': '2023-03-20', 'Id': 4, 'Productor': 'Alfredo Esaul Cruz Paz', 'Rendimiento': 50, 'Riego': 'Gravedad', 'Siembra': '2022-01-15', 'Variedad': 'CP:722086'}\n",
      "el area es 35.920697117124035 ha\n",
      "{'Ciclo': 'Soca', 'Cosecha': '2023-04-15', 'Id': 5, 'Productor': 'no sé', 'Rendimiento': 75, 'Riego': 'Gravedad', 'Siembra': '2022-02-02', 'Variedad': 'CP:722086'}\n",
      "el area es 5.219653476545875 ha\n",
      "{'Ciclo': 'Soca', 'Cosecha': '2023-04-15', 'Id': 6, 'Productor': 'no sé', 'Rendimiento': 48, 'Riego': 'Gravedad', 'Siembra': '2022-02-02', 'Variedad': 'CP:722086'}\n",
      "el area es 10.000398906175311 ha\n",
      "{'Ciclo': 'Soca', 'Cosecha': '2023-04-15', 'Id': 7, 'Productor': 'no sé', 'Rendimiento': 48, 'Riego': 'Gravedad', 'Siembra': '2022-02-02', 'Variedad': 'CP:722086'}\n",
      "el area es 7.244957473585011 ha\n",
      "{'Ciclo': 'Soca', 'Cosecha': '2023-04-15', 'Id': 8, 'Productor': 'no sé', 'Rendimiento': 48, 'Riego': 'Gravedad', 'Siembra': '2022-02-02', 'Variedad': 'CP:722086'}\n",
      "el area es 8.17901205994713 ha\n",
      "{'Ciclo': 'Soca', 'Cosecha': '2023-04-15', 'Id': 9, 'Productor': 'no sé', 'Rendimiento': 48, 'Riego': 'Gravedad', 'Siembra': '2022-02-02', 'Variedad': 'CP:722086'}\n",
      "el area es 17.914578824993452 ha\n",
      "{'Ciclo': 'Soca', 'Cosecha': '2023-04-15', 'Id': 10, 'Productor': 'no sé', 'Rendimiento': 48, 'Riego': 'Gravedad', 'Siembra': '2022-02-02', 'Variedad': 'CP:722086'}\n",
      "el area es 11.528428191588764 ha\n",
      "{'Ciclo': 'Soca', 'Cosecha': '2023-04-15', 'Id': 11, 'Productor': 'no sé', 'Rendimiento': 48, 'Riego': 'Gravedad', 'Siembra': '2022-02-02', 'Variedad': 'CP:722086'}\n"
     ]
    }
   ],
   "source": [
    "for feature in fc.getInfo()['features']:\n",
    "    fn = ee.Feature(feature)\n",
    "    area = fn.geometry().area()\n",
    "    print(f'el area es {area.divide(10000).getInfo()} ha')\n",
    "    print(fn.getInfo()['properties'])"
   ],
   "metadata": {
    "collapsed": false,
    "ExecuteTime": {
     "end_time": "2023-09-28T03:32:25.872271600Z",
     "start_time": "2023-09-28T03:32:03.712757200Z"
    }
   },
   "id": "b1d0b6c043dca67d"
  },
  {
   "cell_type": "markdown",
   "source": [
    "# Colección de imágenes"
   ],
   "metadata": {
    "collapsed": false
   },
   "id": "b9c83b2f4c18ed1"
  },
  {
   "cell_type": "markdown",
   "source": [
    "## Misión Sentinel 2"
   ],
   "metadata": {
    "collapsed": false
   },
   "id": "e97d384d5ec9d897"
  },
  {
   "cell_type": "markdown",
   "source": [
    "La colección es de las imágenes con nivel de procesamiento 2A."
   ],
   "metadata": {
    "collapsed": false
   },
   "id": "9227996158092828"
  },
  {
   "cell_type": "code",
   "execution_count": 63,
   "outputs": [],
   "source": [
    "start_year = '2022-01-01'\n",
    "end_year = '2022-01-20'"
   ],
   "metadata": {
    "collapsed": false,
    "ExecuteTime": {
     "end_time": "2023-09-28T01:11:26.834167700Z",
     "start_time": "2023-09-28T01:11:26.793914800Z"
    }
   },
   "id": "892848f3c482e6e9"
  },
  {
   "cell_type": "code",
   "execution_count": 64,
   "outputs": [],
   "source": [
    "ic = ee.ImageCollection(\"COPERNICUS/S2_SR_HARMONIZED\").filterDate(start=start_year, opt_end=end_year).filter(ee.Filter.eq('MGRS_TILE', '14QML'))"
   ],
   "metadata": {
    "collapsed": false,
    "ExecuteTime": {
     "end_time": "2023-09-28T01:11:27.319691500Z",
     "start_time": "2023-09-28T01:11:27.285788600Z"
    }
   },
   "id": "8d815dd5a3d2260e"
  },
  {
   "cell_type": "code",
   "execution_count": 65,
   "outputs": [
    {
     "data": {
      "text/plain": "9"
     },
     "execution_count": 65,
     "metadata": {},
     "output_type": "execute_result"
    }
   ],
   "source": [
    "ic.size().getInfo()"
   ],
   "metadata": {
    "collapsed": false,
    "ExecuteTime": {
     "end_time": "2023-09-28T01:11:29.217508600Z",
     "start_time": "2023-09-28T01:11:27.911210Z"
    }
   },
   "id": "601ae0f9ecd46a89"
  },
  {
   "cell_type": "markdown",
   "source": [
    "En la celda anterior se definió la colección de imágenes con un rango de fechas determinado y que solo sean las que coinciden con el **TILE_ID** = 14QML, que abarca la región de interés."
   ],
   "metadata": {
    "collapsed": false
   },
   "id": "d29c02c5af9e704c"
  },
  {
   "cell_type": "markdown",
   "source": [
    "### AOI dentro de la imagen"
   ],
   "metadata": {
    "collapsed": false
   },
   "id": "2d1353e5520e9c1b"
  },
  {
   "cell_type": "markdown",
   "source": [
    "Vamos a asegurarnos que el área de interés se encuentre dentro de la imagen, para esto se comparan las geometrías de ambos elementos."
   ],
   "metadata": {
    "collapsed": false
   },
   "id": "c02e54b56d2717d6"
  },
  {
   "cell_type": "code",
   "execution_count": 60,
   "outputs": [],
   "source": [
    "def does_intersect(img, feature_geom):\n",
    "    \n",
    "    intersecta = img.geometry().intersects(feature_geom, maxError=0.01)\n",
    "    \n",
    "    return intersecta.getInfo()\n"
   ],
   "metadata": {
    "collapsed": false,
    "ExecuteTime": {
     "end_time": "2023-09-28T01:04:22.652234100Z",
     "start_time": "2023-09-28T01:04:22.609431700Z"
    }
   },
   "id": "17fc7822090b948f"
  },
  {
   "cell_type": "markdown",
   "source": [
    "### Filtro de nubes"
   ],
   "metadata": {
    "collapsed": false
   },
   "id": "a4c4211f9f39426e"
  },
  {
   "cell_type": "markdown",
   "source": [
    "En este apartado vamos a filtrar las imágenes que tienen nubes en la zona de estudio, las que presenten nubosidad en el área serán descartadas."
   ],
   "metadata": {
    "collapsed": false
   },
   "id": "e72cf2cffaf65c4a"
  },
  {
   "cell_type": "code",
   "execution_count": 24,
   "outputs": [],
   "source": [
    "def count_cloud_pixels(img, cloud_percent, aoi):\n",
    "    \n",
    "    cloud_band = img.select('MSK_CLDPRB').gt(cloud_percent)\n",
    "    pixel_count = cloud_band.reduceRegion(\n",
    "        reducer = ee.Reducer.frequencyHistogram(),\n",
    "        geometry = aoi,\n",
    "        scale = 10,\n",
    "        maxPixels = 1e9\n",
    "    )\n",
    "    \n",
    "    return pixel_count.get('MSK_CLDPRB').getInfo()"
   ],
   "metadata": {
    "collapsed": false,
    "ExecuteTime": {
     "end_time": "2023-09-28T00:21:11.815901500Z",
     "start_time": "2023-09-28T00:21:11.799145500Z"
    }
   },
   "id": "dcbc8e29059fac52"
  },
  {
   "cell_type": "markdown",
   "source": [
    "## Exportación de imágenes a Google Drive"
   ],
   "metadata": {
    "collapsed": false
   },
   "id": "645bdcaf0995720a"
  },
  {
   "cell_type": "markdown",
   "source": [
    "Teniendo los **id's** procedemos a exportar las imágenes a la carpeta de nuestra preferencia y con los parámetros deseados."
   ],
   "metadata": {
    "collapsed": false
   },
   "id": "aca0d16519a30c7d"
  },
  {
   "cell_type": "code",
   "execution_count": 72,
   "outputs": [],
   "source": [
    "def export_images(folder: str, img, bands, aoi, to_crs: str, filename):\n",
    "    \n",
    "    raw_image = img.select(bands)\n",
    "    \n",
    "    export_params = {\n",
    "        'driveFolder' : f'{folder}',\n",
    "        'fileFormat': 'GeoTiff',\n",
    "        'scale': 10,\n",
    "        'region': aoi,\n",
    "        'crs': to_crs,\n",
    "    }\n",
    "    \n",
    "    task = ee.batch.Export.image.toDrive(image=raw_image, description=filename, **export_params)\n",
    "    \n",
    "    task.start()\n",
    "    task.status()\n",
    "    \n",
    "    return print(f\"{filename} exportada correctamente.\")"
   ],
   "metadata": {
    "collapsed": false,
    "ExecuteTime": {
     "end_time": "2023-09-28T01:20:39.705973400Z",
     "start_time": "2023-09-28T01:20:39.668545800Z"
    }
   },
   "id": "6e23b8d2727a75c4"
  },
  {
   "cell_type": "code",
   "execution_count": 86,
   "outputs": [
    {
     "name": "stdout",
     "output_type": "stream",
     "text": [
      "{'0': 12028.301960784298}\n",
      "Parcela_1COPERNICUS_S2_SR_HARMONIZED_20220101T170721_20220101T171436_T14QML exportada correctamente.\n",
      "Parcela_2COPERNICUS_S2_SR_HARMONIZED_20220101T170721_20220101T171436_T14QML exportada correctamente.\n",
      "Parcela_3COPERNICUS_S2_SR_HARMONIZED_20220101T170721_20220101T171436_T14QML exportada correctamente.\n",
      "Parcela_4COPERNICUS_S2_SR_HARMONIZED_20220101T170721_20220101T171436_T14QML exportada correctamente.\n",
      "Parcela_5COPERNICUS_S2_SR_HARMONIZED_20220101T170721_20220101T171436_T14QML exportada correctamente.\n",
      "Parcela_6COPERNICUS_S2_SR_HARMONIZED_20220101T170721_20220101T171436_T14QML exportada correctamente.\n",
      "Parcela_7COPERNICUS_S2_SR_HARMONIZED_20220101T170721_20220101T171436_T14QML exportada correctamente.\n",
      "Parcela_8COPERNICUS_S2_SR_HARMONIZED_20220101T170721_20220101T171436_T14QML exportada correctamente.\n",
      "Parcela_9COPERNICUS_S2_SR_HARMONIZED_20220101T170721_20220101T171436_T14QML exportada correctamente.\n",
      "Parcela_10COPERNICUS_S2_SR_HARMONIZED_20220101T170721_20220101T171436_T14QML exportada correctamente.\n",
      "Parcela_11COPERNICUS_S2_SR_HARMONIZED_20220101T170721_20220101T171436_T14QML exportada correctamente.\n",
      "{'0': 12028.301960784298}\n",
      "Parcela_1COPERNICUS_S2_SR_HARMONIZED_20220106T170709_20220106T171047_T14QML exportada correctamente.\n",
      "Parcela_2COPERNICUS_S2_SR_HARMONIZED_20220106T170709_20220106T171047_T14QML exportada correctamente.\n",
      "Parcela_3COPERNICUS_S2_SR_HARMONIZED_20220106T170709_20220106T171047_T14QML exportada correctamente.\n",
      "Parcela_4COPERNICUS_S2_SR_HARMONIZED_20220106T170709_20220106T171047_T14QML exportada correctamente.\n",
      "Parcela_5COPERNICUS_S2_SR_HARMONIZED_20220106T170709_20220106T171047_T14QML exportada correctamente.\n",
      "Parcela_6COPERNICUS_S2_SR_HARMONIZED_20220106T170709_20220106T171047_T14QML exportada correctamente.\n",
      "Parcela_7COPERNICUS_S2_SR_HARMONIZED_20220106T170709_20220106T171047_T14QML exportada correctamente.\n",
      "Parcela_8COPERNICUS_S2_SR_HARMONIZED_20220106T170709_20220106T171047_T14QML exportada correctamente.\n",
      "Parcela_9COPERNICUS_S2_SR_HARMONIZED_20220106T170709_20220106T171047_T14QML exportada correctamente.\n",
      "Parcela_10COPERNICUS_S2_SR_HARMONIZED_20220106T170709_20220106T171047_T14QML exportada correctamente.\n",
      "Parcela_11COPERNICUS_S2_SR_HARMONIZED_20220106T170709_20220106T171047_T14QML exportada correctamente.\n",
      "{'1': 12028.301960784298}\n",
      "{'0': 12028.301960784298}\n",
      "Parcela_1COPERNICUS_S2_SR_HARMONIZED_20220116T170639_20220116T171021_T14QML exportada correctamente.\n",
      "Parcela_2COPERNICUS_S2_SR_HARMONIZED_20220116T170639_20220116T171021_T14QML exportada correctamente.\n",
      "Parcela_3COPERNICUS_S2_SR_HARMONIZED_20220116T170639_20220116T171021_T14QML exportada correctamente.\n",
      "Parcela_4COPERNICUS_S2_SR_HARMONIZED_20220116T170639_20220116T171021_T14QML exportada correctamente.\n",
      "Parcela_5COPERNICUS_S2_SR_HARMONIZED_20220116T170639_20220116T171021_T14QML exportada correctamente.\n",
      "Parcela_6COPERNICUS_S2_SR_HARMONIZED_20220116T170639_20220116T171021_T14QML exportada correctamente.\n",
      "Parcela_7COPERNICUS_S2_SR_HARMONIZED_20220116T170639_20220116T171021_T14QML exportada correctamente.\n",
      "Parcela_8COPERNICUS_S2_SR_HARMONIZED_20220116T170639_20220116T171021_T14QML exportada correctamente.\n",
      "Parcela_9COPERNICUS_S2_SR_HARMONIZED_20220116T170639_20220116T171021_T14QML exportada correctamente.\n",
      "Parcela_10COPERNICUS_S2_SR_HARMONIZED_20220116T170639_20220116T171021_T14QML exportada correctamente.\n",
      "Parcela_11COPERNICUS_S2_SR_HARMONIZED_20220116T170639_20220116T171021_T14QML exportada correctamente.\n",
      "Dentro: 4, No coincide: 5, Libres de nubes: 3\n"
     ]
    }
   ],
   "source": [
    "inside = 0\n",
    "out = 0\n",
    "cloud_free = 0\n",
    "\n",
    "for image in ic.getInfo()['features']:\n",
    "    resultado = does_intersect(img=ee.Image(image['id']), feature_geom=fc_bbox)\n",
    "    #print(resultado)\n",
    "    if resultado:\n",
    "        counted_pixels = count_cloud_pixels(img=ee.Image(image['id']), cloud_percent=50, aoi=fc)\n",
    "        print(counted_pixels)\n",
    "        if '1' not in counted_pixels:\n",
    "            for feature in fc.getInfo()['features']:\n",
    "                parcela_feature = ee.Feature(feature)\n",
    "                #print(f\"La imagen {image['id']} intersecta\")\n",
    "                #print(f\"{image['id']} está completamente libre de nubes\")\n",
    "                #print(f\"Parcela {parcela_feature.getInfo()['properties']['Id']} con la imagen {image['id']} con la geometria {parcela_feature.geometry().getInfo()}\")\n",
    "                export_images(folder='Tesis_caña2', img=ee.Image(image['id']),bands=['B2', 'B3', 'B4', 'B5', 'B6', 'B7', 'B8', 'B11', 'B12'], aoi=parcela_feature.geometry(), to_crs='EPSG:32614', filename=f\"Parcela_{parcela_feature.getInfo()['properties']['Id']}{image['id'].replace('/', '_')}\")\n",
    "            cloud_free += 1\n",
    "        #free_pixels, cloud_pixels = counted_pixels['0'], counted_pixels['1']\n",
    "        #print(free_pixels, cloud_pixels)\n",
    "        inside += 1\n",
    "    else:\n",
    "        #print(f\"La imagen {image['id']} no coincide\")\n",
    "        out += 1\n",
    "\n",
    "        \n",
    "print(f'Dentro: {inside}, No coincide: {out}, Libres de nubes: {cloud_free}')\n"
   ],
   "metadata": {
    "collapsed": false,
    "ExecuteTime": {
     "end_time": "2023-09-28T03:52:20.188697800Z",
     "start_time": "2023-09-28T03:50:21.848827900Z"
    }
   },
   "id": "f01faf1cfbcb8978"
  },
  {
   "cell_type": "code",
   "execution_count": null,
   "outputs": [],
   "source": [],
   "metadata": {
    "collapsed": false
   },
   "id": "74099045ddd56159"
  }
 ],
 "metadata": {
  "kernelspec": {
   "display_name": "Python 3",
   "language": "python",
   "name": "python3"
  },
  "language_info": {
   "codemirror_mode": {
    "name": "ipython",
    "version": 2
   },
   "file_extension": ".py",
   "mimetype": "text/x-python",
   "name": "python",
   "nbconvert_exporter": "python",
   "pygments_lexer": "ipython2",
   "version": "2.7.6"
  }
 },
 "nbformat": 4,
 "nbformat_minor": 5
}
