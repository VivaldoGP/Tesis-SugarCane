{
 "cells": [
  {
   "cell_type": "markdown",
   "source": [
    "## Librerías"
   ],
   "metadata": {
    "collapsed": false
   },
   "id": "3f79665c2a37ab73"
  },
  {
   "cell_type": "code",
   "execution_count": 1,
   "outputs": [],
   "source": [
    "import ee\n",
    "import json"
   ],
   "metadata": {
    "collapsed": false,
    "ExecuteTime": {
     "end_time": "2023-09-27T23:48:59.505795400Z",
     "start_time": "2023-09-27T23:48:58.923855700Z"
    }
   },
   "id": "de2edc22d483a6b9"
  },
  {
   "cell_type": "markdown",
   "source": [
    "## Autenticación"
   ],
   "metadata": {
    "collapsed": false
   },
   "id": "4a533b04fa7adb53"
  },
  {
   "cell_type": "markdown",
   "source": [
    "Primeros autenticarnos con nuestras credenciales, para esto necesitamos registrarnos."
   ],
   "metadata": {
    "collapsed": false
   },
   "id": "24276c4099d3e570"
  },
  {
   "cell_type": "code",
   "execution_count": null,
   "outputs": [],
   "source": [
    "ee.Authenticate()"
   ],
   "metadata": {
    "collapsed": false
   },
   "id": "f7c6bc53a9634778"
  },
  {
   "cell_type": "markdown",
   "source": [
    "## Inicialización de la librería"
   ],
   "metadata": {
    "collapsed": false
   },
   "id": "3da324e56ba1cc16"
  },
  {
   "cell_type": "code",
   "execution_count": 3,
   "outputs": [],
   "source": [
    "ee.Initialize()"
   ],
   "metadata": {
    "collapsed": false,
    "ExecuteTime": {
     "end_time": "2023-09-27T23:55:24.832047100Z",
     "start_time": "2023-09-27T23:55:20.778460Z"
    }
   },
   "id": "634bdd45d812c4c8"
  },
  {
   "cell_type": "markdown",
   "source": [
    "## Delimitación de la zona/zonas de estudio"
   ],
   "metadata": {
    "collapsed": false
   },
   "id": "eae310a7fa29f08b"
  },
  {
   "cell_type": "markdown",
   "source": [
    "Para esto vamos a obtener la geometría desde un archivo geojson."
   ],
   "metadata": {
    "collapsed": false
   },
   "id": "3f39c76431ed4205"
  },
  {
   "cell_type": "code",
   "execution_count": 6,
   "outputs": [],
   "source": [
    "with open(r'C:\\Users\\DELL\\PycharmProjects\\Tesis\\Parcelas\\Parcelas_estudio.geojson', encoding='utf-8') as geom:\n",
    "    rancho = json.load(geom)"
   ],
   "metadata": {
    "collapsed": false,
    "ExecuteTime": {
     "end_time": "2023-09-28T00:00:33.695971Z",
     "start_time": "2023-09-28T00:00:33.677951900Z"
    }
   },
   "id": "a8d19c79e5b17444"
  },
  {
   "cell_type": "code",
   "execution_count": null,
   "outputs": [],
   "source": [
    "rancho"
   ],
   "metadata": {
    "collapsed": false
   },
   "id": "84b6c7b7bda40287"
  },
  {
   "cell_type": "markdown",
   "source": [
    "## Pasamos este json a un FeatureCollection"
   ],
   "metadata": {
    "collapsed": false
   },
   "id": "3615ea17f2cf953f"
  },
  {
   "cell_type": "markdown",
   "source": [
    "Esto para poder operar las geometrías con las colecciones de imágenes."
   ],
   "metadata": {
    "collapsed": false
   },
   "id": "3b063d58002f04d1"
  },
  {
   "cell_type": "code",
   "execution_count": 8,
   "outputs": [],
   "source": [
    "fc = ee.FeatureCollection(rancho)"
   ],
   "metadata": {
    "collapsed": false,
    "ExecuteTime": {
     "end_time": "2023-09-28T00:00:51.560466200Z",
     "start_time": "2023-09-28T00:00:51.524953700Z"
    }
   },
   "id": "28ba2d9a023f7d4e"
  },
  {
   "cell_type": "code",
   "execution_count": 52,
   "outputs": [],
   "source": [
    "fc_bbox = fc.geometry().bounds()"
   ],
   "metadata": {
    "collapsed": false,
    "ExecuteTime": {
     "end_time": "2023-09-28T00:58:59.158840600Z",
     "start_time": "2023-09-28T00:58:59.108893200Z"
    }
   },
   "id": "b7895228ea743a7e"
  },
  {
   "cell_type": "markdown",
   "source": [
    "Vamos a calcular el área para ver que coincida con las dimensiones esperadas."
   ],
   "metadata": {
    "collapsed": false
   },
   "id": "577102f66c15027"
  },
  {
   "cell_type": "code",
   "execution_count": null,
   "outputs": [],
   "source": [
    "for feature in fc.getInfo()['features']:\n",
    "    fn = ee.Feature(feature)\n",
    "    area = fn.geometry().area()\n",
    "    print(f'el area es {area.divide(10000).getInfo()} ha')\n",
    "    print(fn.getInfo()['properties'])"
   ],
   "metadata": {
    "collapsed": false
   },
   "id": "b1d0b6c043dca67d"
  },
  {
   "cell_type": "markdown",
   "source": [
    "# Colección de imágenes"
   ],
   "metadata": {
    "collapsed": false
   },
   "id": "b9c83b2f4c18ed1"
  },
  {
   "cell_type": "markdown",
   "source": [
    "## Misión Sentinel 2"
   ],
   "metadata": {
    "collapsed": false
   },
   "id": "e97d384d5ec9d897"
  },
  {
   "cell_type": "markdown",
   "source": [
    "La colección es de las imágenes con nivel de procesamiento 2A."
   ],
   "metadata": {
    "collapsed": false
   },
   "id": "9227996158092828"
  },
  {
   "cell_type": "code",
   "execution_count": 88,
   "outputs": [],
   "source": [
    "start_year = '2022-01-01'\n",
    "end_year = '2023-07-01'"
   ],
   "metadata": {
    "collapsed": false,
    "ExecuteTime": {
     "end_time": "2023-09-28T05:04:32.918151900Z",
     "start_time": "2023-09-28T05:04:32.883076400Z"
    }
   },
   "id": "892848f3c482e6e9"
  },
  {
   "cell_type": "code",
   "execution_count": 89,
   "outputs": [],
   "source": [
    "ic = ee.ImageCollection(\"COPERNICUS/S2_SR_HARMONIZED\").filterDate(start=start_year, opt_end=end_year).filter(ee.Filter.eq('MGRS_TILE', '14QML'))"
   ],
   "metadata": {
    "collapsed": false,
    "ExecuteTime": {
     "end_time": "2023-09-28T05:04:33.645580900Z",
     "start_time": "2023-09-28T05:04:33.623234500Z"
    }
   },
   "id": "8d815dd5a3d2260e"
  },
  {
   "cell_type": "code",
   "execution_count": 90,
   "outputs": [
    {
     "data": {
      "text/plain": "226"
     },
     "execution_count": 90,
     "metadata": {},
     "output_type": "execute_result"
    }
   ],
   "source": [
    "ic.size().getInfo()"
   ],
   "metadata": {
    "collapsed": false,
    "ExecuteTime": {
     "end_time": "2023-09-28T05:04:38.588014700Z",
     "start_time": "2023-09-28T05:04:34.260558400Z"
    }
   },
   "id": "601ae0f9ecd46a89"
  },
  {
   "cell_type": "markdown",
   "source": [
    "En la celda anterior se definió la colección de imágenes con un rango de fechas determinado y que solo sean las que coinciden con el **TILE_ID** = 14QML, que abarca la región de interés."
   ],
   "metadata": {
    "collapsed": false
   },
   "id": "d29c02c5af9e704c"
  },
  {
   "cell_type": "markdown",
   "source": [
    "### AOI dentro de la imagen"
   ],
   "metadata": {
    "collapsed": false
   },
   "id": "2d1353e5520e9c1b"
  },
  {
   "cell_type": "markdown",
   "source": [
    "Vamos a asegurarnos que el área de interés se encuentre dentro de la imagen, para esto se comparan las geometrías de ambos elementos."
   ],
   "metadata": {
    "collapsed": false
   },
   "id": "c02e54b56d2717d6"
  },
  {
   "cell_type": "code",
   "execution_count": 60,
   "outputs": [],
   "source": [
    "def does_intersect(img, feature_geom):\n",
    "    \n",
    "    intersecta = img.geometry().intersects(feature_geom, maxError=0.01)\n",
    "    \n",
    "    return intersecta.getInfo()\n"
   ],
   "metadata": {
    "collapsed": false,
    "ExecuteTime": {
     "end_time": "2023-09-28T01:04:22.652234100Z",
     "start_time": "2023-09-28T01:04:22.609431700Z"
    }
   },
   "id": "17fc7822090b948f"
  },
  {
   "cell_type": "markdown",
   "source": [
    "### Filtro de nubes"
   ],
   "metadata": {
    "collapsed": false
   },
   "id": "a4c4211f9f39426e"
  },
  {
   "cell_type": "markdown",
   "source": [
    "En este apartado vamos a filtrar las imágenes que tienen nubes en la zona de estudio, las que presenten nubosidad en el área serán descartadas."
   ],
   "metadata": {
    "collapsed": false
   },
   "id": "e72cf2cffaf65c4a"
  },
  {
   "cell_type": "code",
   "execution_count": 24,
   "outputs": [],
   "source": [
    "def count_cloud_pixels(img, cloud_percent, aoi):\n",
    "    \n",
    "    cloud_band = img.select('MSK_CLDPRB').gt(cloud_percent)\n",
    "    pixel_count = cloud_band.reduceRegion(\n",
    "        reducer = ee.Reducer.frequencyHistogram(),\n",
    "        geometry = aoi,\n",
    "        scale = 10,\n",
    "        maxPixels = 1e9\n",
    "    )\n",
    "    \n",
    "    return pixel_count.get('MSK_CLDPRB').getInfo()"
   ],
   "metadata": {
    "collapsed": false,
    "ExecuteTime": {
     "end_time": "2023-09-28T00:21:11.815901500Z",
     "start_time": "2023-09-28T00:21:11.799145500Z"
    }
   },
   "id": "dcbc8e29059fac52"
  },
  {
   "cell_type": "markdown",
   "source": [
    "## Exportación de imágenes a Google Drive"
   ],
   "metadata": {
    "collapsed": false
   },
   "id": "645bdcaf0995720a"
  },
  {
   "cell_type": "markdown",
   "source": [
    "Teniendo los **id's** procedemos a exportar las imágenes a la carpeta de nuestra preferencia y con los parámetros deseados."
   ],
   "metadata": {
    "collapsed": false
   },
   "id": "aca0d16519a30c7d"
  },
  {
   "cell_type": "code",
   "execution_count": 72,
   "outputs": [],
   "source": [
    "def export_images(folder: str, img, bands, aoi, to_crs: str, filename):\n",
    "    \n",
    "    raw_image = img.select(bands)\n",
    "    \n",
    "    export_params = {\n",
    "        'driveFolder' : f'{folder}',\n",
    "        'fileFormat': 'GeoTiff',\n",
    "        'scale': 10,\n",
    "        'region': aoi,\n",
    "        'crs': to_crs,\n",
    "    }\n",
    "    \n",
    "    task = ee.batch.Export.image.toDrive(image=raw_image, description=filename, **export_params)\n",
    "    \n",
    "    task.start()\n",
    "    task.status()\n",
    "    \n",
    "    return print(f\"{filename} exportada correctamente.\")"
   ],
   "metadata": {
    "collapsed": false,
    "ExecuteTime": {
     "end_time": "2023-09-28T01:20:39.705973400Z",
     "start_time": "2023-09-28T01:20:39.668545800Z"
    }
   },
   "id": "6e23b8d2727a75c4"
  },
  {
   "cell_type": "code",
   "execution_count": null,
   "outputs": [],
   "source": [
    "inside = 0\n",
    "out = 0\n",
    "cloud_free = 0\n",
    "\n",
    "for image in ic.getInfo()['features']:\n",
    "    resultado = does_intersect(img=ee.Image(image['id']), feature_geom=fc_bbox)\n",
    "    #print(resultado)\n",
    "    if resultado:\n",
    "        counted_pixels = count_cloud_pixels(img=ee.Image(image['id']), cloud_percent=50, aoi=fc)\n",
    "        print(counted_pixels)\n",
    "        if '1' not in counted_pixels:\n",
    "            for feature in fc.getInfo()['features']:\n",
    "                parcela_feature = ee.Feature(feature)\n",
    "                #print(f\"La imagen {image['id']} intersecta\")\n",
    "                #print(f\"{image['id']} está completamente libre de nubes\")\n",
    "                #print(f\"Parcela {parcela_feature.getInfo()['properties']['Id']} con la imagen {image['id']} con la geometria {parcela_feature.geometry().getInfo()}\")\n",
    "                export_images(folder='Tesis_caña2', img=ee.Image(image['id']),bands=['B2', 'B3', 'B4', 'B5', 'B6', 'B7', 'B8', 'B11', 'B12'], aoi=parcela_feature.geometry(), to_crs='EPSG:32614', filename=f\"Parcela_{parcela_feature.getInfo()['properties']['Id']}_{image['id'].replace('/', '_')}\")\n",
    "            cloud_free += 1\n",
    "        #free_pixels, cloud_pixels = counted_pixels['0'], counted_pixels['1']\n",
    "        #print(free_pixels, cloud_pixels)\n",
    "        inside += 1\n",
    "    else:\n",
    "        #print(f\"La imagen {image['id']} no coincide\")\n",
    "        out += 1\n",
    "\n",
    "        \n",
    "print(f'Dentro: {inside}, No coincide: {out}, Libres de nubes: {cloud_free}')\n"
   ],
   "metadata": {
    "collapsed": false
   },
   "id": "f01faf1cfbcb8978"
  }
 ],
 "metadata": {
  "kernelspec": {
   "display_name": "Python 3",
   "language": "python",
   "name": "python3"
  },
  "language_info": {
   "codemirror_mode": {
    "name": "ipython",
    "version": 2
   },
   "file_extension": ".py",
   "mimetype": "text/x-python",
   "name": "python",
   "nbconvert_exporter": "python",
   "pygments_lexer": "ipython2",
   "version": "2.7.6"
  }
 },
 "nbformat": 4,
 "nbformat_minor": 5
}
